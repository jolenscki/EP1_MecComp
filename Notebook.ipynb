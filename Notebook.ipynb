{
 "cells": [
  {
   "cell_type": "markdown",
   "id": "30e1e813-1459-4947-b3b6-523c4570fc50",
   "metadata": {},
   "source": [
    "# PMR3401 - Mecânica Computacional para Mecatrônica\n",
    "## Exercício-Programa 1\n",
    "João Rodrigo Windisch Olenscki ($\\texttt{10773224}$) </br>\n",
    "Lui Damianci Ferreira ($\\texttt{10770579}$)"
   ]
  },
  {
   "cell_type": "markdown",
   "id": "76f0ee58-ddbd-4fa6-a1ea-ea955ddbdff1",
   "metadata": {},
   "source": [
    "### Equações, constantes e condições iniciais\n",
    " $$ m_{total}\\ddot{x} + m_1 L (\\theta^2 \\cos{\\theta} + \\ddot{\\theta}\\sin{\\theta}) = -F + F_1 \\cos{\\theta}$$\n",
    " \n",
    " $$ m_1 \\ddot{x} L \\sin{\\theta} + m_1 \\ddot{\\theta} L^2 + 2 I \\omega \\dot{\\theta} = 0 $$\n",
    " \n",
    " Constantes:\n",
    " \n",
    " $m_{total}=1939$ kg </br>\n",
    " $L=2.95$ m </br>\n",
    " $I = 1$ kg m² </br>\n",
    " $\\omega=10$ rad/s </br>\n",
    " \n",
    " Forças no eixo: </br>\n",
    " 1. Se tem tração no eixo: $F = \\mu m g$ </br>\n",
    " 2. Se não tem tração no eixo: $F=\\beta m g$ </br>\n",
    " \n",
    " * $\\mu=0.42$: coeficiente de atrito na roda quando há **rolamento** </br>\n",
    " * $\\beta=0.02$: coeficiente de atrito da roda quando há **deslizamento**\n",
    " \n",
    " Obs.: nestas forças o termo de massa $m$ corresponde a **massa do eixo**, sendo uma fração da massa total (dependendo da distribuição inputada) </br>\n",
    " Obs².: eixos tracionados rolam e eixos não-tracionados deslizam"
   ]
  },
  {
   "cell_type": "code",
   "execution_count": null,
   "id": "90870364-515a-4158-91b6-e744e7d1c6c0",
   "metadata": {},
   "outputs": [],
   "source": []
  },
  {
   "cell_type": "code",
   "execution_count": 23,
   "id": "56665cb1-b54e-45a1-aa54-e1ade0de2f6d",
   "metadata": {},
   "outputs": [],
   "source": [
    "import numpy as np\n",
    "import matplotlib.pyplot as plt\n",
    "# usar latex no matplotlib: https://stackoverflow.com/questions/41453109/how-to-write-your-own-latex-preamble-in-matplotlib\n"
   ]
  },
  {
   "cell_type": "code",
   "execution_count": null,
   "id": "2f83a9f3-0cff-4521-af52-da0e45bae6dc",
   "metadata": {},
   "outputs": [],
   "source": []
  }
 ],
 "metadata": {
  "kernelspec": {
   "display_name": "Python 3",
   "language": "python",
   "name": "python3"
  },
  "language_info": {
   "codemirror_mode": {
    "name": "ipython",
    "version": 3
   },
   "file_extension": ".py",
   "mimetype": "text/x-python",
   "name": "python",
   "nbconvert_exporter": "python",
   "pygments_lexer": "ipython3",
   "version": "3.8.5"
  }
 },
 "nbformat": 4,
 "nbformat_minor": 5
}
