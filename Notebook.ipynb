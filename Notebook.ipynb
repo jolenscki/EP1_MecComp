{
 "cells": [
  {
   "cell_type": "markdown",
   "id": "30e1e813-1459-4947-b3b6-523c4570fc50",
   "metadata": {},
   "source": [
    "# PMR3401 - Mecânica Computacional para Mecatrônica\n",
    "## Exercício-Programa 1\n",
    "João Rodrigo Windisch Olenscki ($\\texttt{10773224}$) </br>\n",
    "Lui Damianci Ferreira ($\\texttt{10770579}$)"
   ]
  },
  {
   "cell_type": "markdown",
   "id": "76f0ee58-ddbd-4fa6-a1ea-ea955ddbdff1",
   "metadata": {},
   "source": [
    "### Equações, constantes e condições iniciais\n",
    " $$ m_{total}\\ddot{x} + m_1 L (\\theta^2 \\cos{\\theta} + \\ddot{\\theta}\\sin{\\theta}) = -F + F_1 \\cos{\\theta}$$\n",
    " \n",
    " $$ m_1 \\ddot{x} L \\sin{\\theta} + m_1 \\ddot{\\theta} L^2 + 2 I \\omega \\dot{\\theta} = 0 $$\n",
    " \n",
    " Constantes:\n",
    " \n",
    " $m_{total}=1939$ kg </br>\n",
    " $L=2.95$ m </br>\n",
    " $I = 1$ kg m² </br>\n",
    " $\\omega=10$ rad/s </br>\n",
    " \n",
    " Forças no eixo: </br>\n",
    " 1. Se tem tração no eixo: $F = \\mu m g$ </br>\n",
    " 2. Se não tem tração no eixo: $F=\\beta m g$ </br>\n",
    " \n",
    " * $\\mu=0.42$: coeficiente de atrito na roda quando há **rolamento** </br>\n",
    " * $\\beta=0.02$: coeficiente de atrito da roda quando há **deslizamento**\n",
    " \n",
    " Obs.: nestas forças o termo de massa $m$ corresponde a **massa do eixo**, sendo uma fração da massa total (dependendo da distribuição inputada) </br>\n",
    " Obs².: eixos tracionados rolam e eixos não-tracionados deslizam"
   ]
  },
  {
   "cell_type": "markdown",
   "id": "4e4d8669-67fa-4247-ad9c-43ad46761017",
   "metadata": {},
   "source": [
    "### Equações desacopladas\n",
    "\n",
    "$$\\ddot{\\theta} = \\left(\\frac{\\sin{\\theta}}{m_1 L \\sin^{2}{\\theta} - m_{total} L} \\right) \\cdot \\left[\\frac{2 m_{total} I \\omega \\dot{\\theta}}{m_1 L \\sin{\\theta}} - m_1 L \\theta^2  \\cos{\\theta} - F + F_1 \\cos{\\theta} \\right] $$\n",
    "\n",
    "$$\\ddot{x} = -\\frac{m_1 L^2 \\ddot{\\theta} + 2 I \\omega \\dot{\\theta}}{m_1 L \\sin{\\theta}} $$"
   ]
  },
  {
   "cell_type": "code",
   "execution_count": 23,
   "id": "56665cb1-b54e-45a1-aa54-e1ade0de2f6d",
   "metadata": {},
   "outputs": [],
   "source": [
    "import numpy as np\n",
    "import matplotlib.pyplot as plt\n",
    "# usar latex no matplotlib: https://stackoverflow.com/questions/41453109/how-to-write-your-own-latex-preamble-in-matplotlib\n"
   ]
  },
  {
   "cell_type": "code",
   "execution_count": 6,
   "id": "2f83a9f3-0cff-4521-af52-da0e45bae6dc",
   "metadata": {},
   "outputs": [],
   "source": [
    "def define_forces(traction_set: set,\n",
    "                  m: float,\n",
    "                  m1: float,\n",
    "                  mu: float=0.42,\n",
    "                  beta: float=0.02,\n",
    "                  g: float=9.80665):\n",
    "    '''\n",
    "    Função auxiliar que visa simplificar a geração das forças de tração ou reação\n",
    "    a depender do set de input\n",
    "    \n",
    "    Parameters\n",
    "    ----------\n",
    "    traction_set: set[int]\n",
    "        um set de inteiros que simbolizam o tracionamento das rodas dianteiras e\n",
    "        traseiras; se o valor do elemento é 1, isto quer dizer que o par de rodas\n",
    "        desta posição é tracionado; se é 0, é não tracionado\n",
    "    m: float\n",
    "        valor que representa a massa concentrada da parte dianteira do carro\n",
    "    m1: float\n",
    "        valor que representa a massa concentrada da parte traseira do carro\n",
    "    mu: float (default=0.42)\n",
    "        valor que representa o coeficiente de atrito dinâmico entre o pneu e o\n",
    "        asfalto para o caso de rolamento (ativo quando há tração)\n",
    "    beta: float (default=0.02)\n",
    "        valor que representa o coeficiente de atrito dinâmico entre o pneu e o\n",
    "        asfalto para o caso de escorregamento (ativo quando não há tração)\n",
    "    g: float (default=9.80665)\n",
    "        valor que representa a aceleração da gravidade\n",
    "    \n",
    "    Returns\n",
    "    -------\n",
    "    F: float\n",
    "        força, de tração (negativa no referencial) ou de reação (positiva no referencial),\n",
    "        resultante nas rodas dianteiras\n",
    "    F1: float\n",
    "        força, de tração (positiva no referencial) ou de reação (negativa no referencial),\n",
    "        resultante nas rodas traseiras\n",
    "    \n",
    "    Examples\n",
    "    --------\n",
    "    >>>define_forces((0, 1), 0.6, 0.4) # -> implica que a tração é traseira\n",
    "    >>>define_forces((1, 1), 0.6, 0.4) # -> implica que a tração é nas quatro rodas\n",
    "    >>>define_forces((1, 0), 0.6, 0.4) # -> implica que a tração é dianteira\n",
    "    '''\n",
    "    diant, tras = traction_set\n",
    "    # bloco de análise da parte dianteira\n",
    "    if diant == 0:\n",
    "        F = beta * m * g\n",
    "    else:\n",
    "        F = - mu * m * g # negativo para seguir referencial dado\n",
    "    # bloco de análise da parte traseira\n",
    "    if tras == 0:\n",
    "        F1 = - beta * m1 * g\n",
    "    else:\n",
    "        F1 = mu * m1 * g\n",
    "    \n",
    "    return F, F1"
   ]
  },
  {
   "cell_type": "code",
   "execution_count": 7,
   "id": "9ec8ec6e-cc73-4338-b0cd-07b376dfc152",
   "metadata": {},
   "outputs": [],
   "source": [
    "# bloco de constantes\n",
    "m_total = 1939 #....... kg\n",
    "L       = 2.95 #........ m\n",
    "I       =    1 #... kg.m^2\n",
    "omega   =   10 #.... rad/s\n",
    "theta0  =   10 #........ °\n",
    "thetap0 =    0 #.... rad/s\n",
    "x0      =    0 #........ m\n",
    "xp0     =    0 #...... m/s"
   ]
  },
  {
   "cell_type": "code",
   "execution_count": null,
   "id": "901d0129-c6fc-4023-b4b0-653c918fba3a",
   "metadata": {},
   "outputs": [],
   "source": [
    "RK4_tests = [\n",
    "    [(0, 1), 0.8],\n",
    "    [(1, 0), 0.8],\n",
    "    \n",
    "    \n",
    "]"
   ]
  },
  {
   "cell_type": "code",
   "execution_count": null,
   "id": "73a185e6-916f-410b-8fec-fdc3841362bf",
   "metadata": {},
   "outputs": [],
   "source": [
    "# vetor de estado inicial\n",
    "y = np.array"
   ]
  }
 ],
 "metadata": {
  "kernelspec": {
   "display_name": "Python 3",
   "language": "python",
   "name": "python3"
  },
  "language_info": {
   "codemirror_mode": {
    "name": "ipython",
    "version": 3
   },
   "file_extension": ".py",
   "mimetype": "text/x-python",
   "name": "python",
   "nbconvert_exporter": "python",
   "pygments_lexer": "ipython3",
   "version": "3.8.5"
  }
 },
 "nbformat": 4,
 "nbformat_minor": 5
}
